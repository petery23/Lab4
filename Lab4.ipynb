{
  "cells": [
    {
      "cell_type": "markdown",
      "id": "a541105d",
      "metadata": {
        "id": "a541105d"
      },
      "source": [
        "# Welcome to Lab 4!"
      ]
    },
    {
      "cell_type": "markdown",
      "id": "1486e647",
      "metadata": {
        "id": "1486e647"
      },
      "source": [
        "### Overview:\n",
        "- In this lab, you'll build a linear regression model using Pandas and Scikit-Learn (AKA Sklearn) to predict whether a patient has liver disease based on their lab test results. This is a real-world dataset from the UCI Machine Learning Repository.\n"
      ]
    },
    {
      "cell_type": "markdown",
      "id": "34c4d81f",
      "metadata": {
        "id": "34c4d81f"
      },
      "source": [
        "### What you will learn:\n",
        "- How to load and explore data using Pandas and Matplotlib\n",
        "- Data preprocessing and cleaning\n",
        "- Building a logistic regression model\n",
        "- Evaluating model performance"
      ]
    },
    {
      "cell_type": "markdown",
      "id": "6926016e",
      "metadata": {
        "id": "6926016e"
      },
      "source": [
        "### Documentation:\n",
        "- Scikit-learn Documentation: https://scikit-learn.org/stable/\n",
        "- Pandas Documentation: https://pandas.pydata.org/docs/\n",
        "- Matplotlib Documentation: https://matplotlib.org/stable/contents.html"
      ]
    },
    {
      "cell_type": "markdown",
      "id": "de4d3e4c",
      "metadata": {
        "id": "de4d3e4c"
      },
      "source": [
        "## Section 1: Libraries Overview"
      ]
    },
    {
      "cell_type": "markdown",
      "id": "dc312b09",
      "metadata": {
        "id": "dc312b09"
      },
      "source": [
        "### Before beginning, we need to asses all the libraries we will be using!\n",
        "- **pandas**: For working with data tables (like Excel, but in Python)\n",
        "- **numpy**: For mathematical operations\n",
        "- **matplotlib**: For creating visualizations\n",
        "- **sklearn**: The main machine learning library we'll use"
      ]
    },
    {
      "cell_type": "code",
      "execution_count": 1,
      "id": "e9e7436f",
      "metadata": {
        "vscode": {
          "languageId": "plaintext"
        },
        "id": "e9e7436f"
      },
      "outputs": [],
      "source": [
        "# importing all the libraries we will be using\n",
        "\n",
        "import pandas as pd\n",
        "import numpy as np\n",
        "import matplotlib.pyplot as plt\n",
        "import seaborn as sns\n",
        "from sklearn.preprocessing import LabelEncoder, StandardScaler\n",
        "from sklearn.model_selection import train_test_split\n",
        "from sklearn.linear_model import LogisticRegression\n",
        "from sklearn.preprocessing import StandardScaler\n",
        "from sklearn.metrics import accuracy_score, classification_report, confusion_matrix"
      ]
    },
    {
      "cell_type": "code",
      "execution_count": 2,
      "id": "9ba28645",
      "metadata": {
        "vscode": {
          "languageId": "plaintext"
        },
        "id": "9ba28645"
      },
      "outputs": [],
      "source": [
        "# Set random seed for reproducibility (so we all get the same results!)\n",
        "np.random.seed(42)"
      ]
    },
    {
      "cell_type": "markdown",
      "id": "b0671ed3",
      "metadata": {
        "id": "b0671ed3"
      },
      "source": [
        "## Section 2: Load and Explore the Dataset"
      ]
    },
    {
      "cell_type": "markdown",
      "id": "1c0b91a3",
      "metadata": {
        "id": "1c0b91a3"
      },
      "source": [
        "**Summary**:\n",
        "- The dataset contains information about liver patients from India. Each row\n",
        "represents one patient, and the columns contain their lab test results.\n",
        "\n",
        "**Dataset Information:**\n",
        "- Age: Patient's age\n",
        "- Gender: Male or Female\n",
        "- Total_Bilirubin: A substance produced during the breakdown of red blood cells\n",
        "- Direct_Bilirubin: A form of bilirubin\n",
        "- Alkaline_Phosphotase: An enzyme found in the liver\n",
        "- Alamine_Aminotransferase: An enzyme that helps metabolize proteins\n",
        "- Aspartate_Aminotransferase: Another enzyme found in the liver\n",
        "- Total_Protiens: Total amount of protein in blood\n",
        "- Albumin: A type of protein made by the liver\n",
        "- Albumin_and_Globulin_Ratio: Ratio of two types of proteins\n",
        "- Dataset: Target variable (1 = liver disease, 2 = no liver disease)"
      ]
    },
    {
      "cell_type": "code",
      "execution_count": 4,
      "id": "ad9e12a6",
      "metadata": {
        "vscode": {
          "languageId": "plaintext"
        },
        "id": "ad9e12a6"
      },
      "outputs": [],
      "source": [
        "# Load the dataset\n",
        "# HINT: use pandas function .read_csv() to load the dataset\n",
        "# (WRITE 1 LINE OF CODE HERE)\n",
        "df = pd.read_csv('indian_liver_patient.csv')\n",
        "\n"
      ]
    },
    {
      "cell_type": "code",
      "execution_count": 10,
      "id": "a76abdf9",
      "metadata": {
        "vscode": {
          "languageId": "plaintext"
        },
        "id": "a76abdf9",
        "colab": {
          "base_uri": "https://localhost:8080/",
          "height": 226
        },
        "outputId": "2422abf5-500e-497f-9e6e-00e35684d093"
      },
      "outputs": [
        {
          "output_type": "execute_result",
          "data": {
            "text/plain": [
              "     Age Gender  Total_Bilirubin  Direct_Bilirubin  Alkaline_Phosphotase  \\\n",
              "578   60   Male              0.5               0.1                   500   \n",
              "579   40   Male              0.6               0.1                    98   \n",
              "580   52   Male              0.8               0.2                   245   \n",
              "581   31   Male              1.3               0.5                   184   \n",
              "582   38   Male              1.0               0.3                   216   \n",
              "\n",
              "     Alamine_Aminotransferase  Aspartate_Aminotransferase  Total_Protiens  \\\n",
              "578                        20                          34             5.9   \n",
              "579                        35                          31             6.0   \n",
              "580                        48                          49             6.4   \n",
              "581                        29                          32             6.8   \n",
              "582                        21                          24             7.3   \n",
              "\n",
              "     Albumin  Albumin_and_Globulin_Ratio  Dataset  \n",
              "578      1.6                        0.37        2  \n",
              "579      3.2                        1.10        1  \n",
              "580      3.2                        1.00        1  \n",
              "581      3.4                        1.00        1  \n",
              "582      4.4                        1.50        2  "
            ],
            "text/html": [
              "\n",
              "  <div id=\"df-1997020f-20e5-49ae-8586-bb3cccf3f922\" class=\"colab-df-container\">\n",
              "    <div>\n",
              "<style scoped>\n",
              "    .dataframe tbody tr th:only-of-type {\n",
              "        vertical-align: middle;\n",
              "    }\n",
              "\n",
              "    .dataframe tbody tr th {\n",
              "        vertical-align: top;\n",
              "    }\n",
              "\n",
              "    .dataframe thead th {\n",
              "        text-align: right;\n",
              "    }\n",
              "</style>\n",
              "<table border=\"1\" class=\"dataframe\">\n",
              "  <thead>\n",
              "    <tr style=\"text-align: right;\">\n",
              "      <th></th>\n",
              "      <th>Age</th>\n",
              "      <th>Gender</th>\n",
              "      <th>Total_Bilirubin</th>\n",
              "      <th>Direct_Bilirubin</th>\n",
              "      <th>Alkaline_Phosphotase</th>\n",
              "      <th>Alamine_Aminotransferase</th>\n",
              "      <th>Aspartate_Aminotransferase</th>\n",
              "      <th>Total_Protiens</th>\n",
              "      <th>Albumin</th>\n",
              "      <th>Albumin_and_Globulin_Ratio</th>\n",
              "      <th>Dataset</th>\n",
              "    </tr>\n",
              "  </thead>\n",
              "  <tbody>\n",
              "    <tr>\n",
              "      <th>578</th>\n",
              "      <td>60</td>\n",
              "      <td>Male</td>\n",
              "      <td>0.5</td>\n",
              "      <td>0.1</td>\n",
              "      <td>500</td>\n",
              "      <td>20</td>\n",
              "      <td>34</td>\n",
              "      <td>5.9</td>\n",
              "      <td>1.6</td>\n",
              "      <td>0.37</td>\n",
              "      <td>2</td>\n",
              "    </tr>\n",
              "    <tr>\n",
              "      <th>579</th>\n",
              "      <td>40</td>\n",
              "      <td>Male</td>\n",
              "      <td>0.6</td>\n",
              "      <td>0.1</td>\n",
              "      <td>98</td>\n",
              "      <td>35</td>\n",
              "      <td>31</td>\n",
              "      <td>6.0</td>\n",
              "      <td>3.2</td>\n",
              "      <td>1.10</td>\n",
              "      <td>1</td>\n",
              "    </tr>\n",
              "    <tr>\n",
              "      <th>580</th>\n",
              "      <td>52</td>\n",
              "      <td>Male</td>\n",
              "      <td>0.8</td>\n",
              "      <td>0.2</td>\n",
              "      <td>245</td>\n",
              "      <td>48</td>\n",
              "      <td>49</td>\n",
              "      <td>6.4</td>\n",
              "      <td>3.2</td>\n",
              "      <td>1.00</td>\n",
              "      <td>1</td>\n",
              "    </tr>\n",
              "    <tr>\n",
              "      <th>581</th>\n",
              "      <td>31</td>\n",
              "      <td>Male</td>\n",
              "      <td>1.3</td>\n",
              "      <td>0.5</td>\n",
              "      <td>184</td>\n",
              "      <td>29</td>\n",
              "      <td>32</td>\n",
              "      <td>6.8</td>\n",
              "      <td>3.4</td>\n",
              "      <td>1.00</td>\n",
              "      <td>1</td>\n",
              "    </tr>\n",
              "    <tr>\n",
              "      <th>582</th>\n",
              "      <td>38</td>\n",
              "      <td>Male</td>\n",
              "      <td>1.0</td>\n",
              "      <td>0.3</td>\n",
              "      <td>216</td>\n",
              "      <td>21</td>\n",
              "      <td>24</td>\n",
              "      <td>7.3</td>\n",
              "      <td>4.4</td>\n",
              "      <td>1.50</td>\n",
              "      <td>2</td>\n",
              "    </tr>\n",
              "  </tbody>\n",
              "</table>\n",
              "</div>\n",
              "    <div class=\"colab-df-buttons\">\n",
              "\n",
              "  <div class=\"colab-df-container\">\n",
              "    <button class=\"colab-df-convert\" onclick=\"convertToInteractive('df-1997020f-20e5-49ae-8586-bb3cccf3f922')\"\n",
              "            title=\"Convert this dataframe to an interactive table.\"\n",
              "            style=\"display:none;\">\n",
              "\n",
              "  <svg xmlns=\"http://www.w3.org/2000/svg\" height=\"24px\" viewBox=\"0 -960 960 960\">\n",
              "    <path d=\"M120-120v-720h720v720H120Zm60-500h600v-160H180v160Zm220 220h160v-160H400v160Zm0 220h160v-160H400v160ZM180-400h160v-160H180v160Zm440 0h160v-160H620v160ZM180-180h160v-160H180v160Zm440 0h160v-160H620v160Z\"/>\n",
              "  </svg>\n",
              "    </button>\n",
              "\n",
              "  <style>\n",
              "    .colab-df-container {\n",
              "      display:flex;\n",
              "      gap: 12px;\n",
              "    }\n",
              "\n",
              "    .colab-df-convert {\n",
              "      background-color: #E8F0FE;\n",
              "      border: none;\n",
              "      border-radius: 50%;\n",
              "      cursor: pointer;\n",
              "      display: none;\n",
              "      fill: #1967D2;\n",
              "      height: 32px;\n",
              "      padding: 0 0 0 0;\n",
              "      width: 32px;\n",
              "    }\n",
              "\n",
              "    .colab-df-convert:hover {\n",
              "      background-color: #E2EBFA;\n",
              "      box-shadow: 0px 1px 2px rgba(60, 64, 67, 0.3), 0px 1px 3px 1px rgba(60, 64, 67, 0.15);\n",
              "      fill: #174EA6;\n",
              "    }\n",
              "\n",
              "    .colab-df-buttons div {\n",
              "      margin-bottom: 4px;\n",
              "    }\n",
              "\n",
              "    [theme=dark] .colab-df-convert {\n",
              "      background-color: #3B4455;\n",
              "      fill: #D2E3FC;\n",
              "    }\n",
              "\n",
              "    [theme=dark] .colab-df-convert:hover {\n",
              "      background-color: #434B5C;\n",
              "      box-shadow: 0px 1px 3px 1px rgba(0, 0, 0, 0.15);\n",
              "      filter: drop-shadow(0px 1px 2px rgba(0, 0, 0, 0.3));\n",
              "      fill: #FFFFFF;\n",
              "    }\n",
              "  </style>\n",
              "\n",
              "    <script>\n",
              "      const buttonEl =\n",
              "        document.querySelector('#df-1997020f-20e5-49ae-8586-bb3cccf3f922 button.colab-df-convert');\n",
              "      buttonEl.style.display =\n",
              "        google.colab.kernel.accessAllowed ? 'block' : 'none';\n",
              "\n",
              "      async function convertToInteractive(key) {\n",
              "        const element = document.querySelector('#df-1997020f-20e5-49ae-8586-bb3cccf3f922');\n",
              "        const dataTable =\n",
              "          await google.colab.kernel.invokeFunction('convertToInteractive',\n",
              "                                                    [key], {});\n",
              "        if (!dataTable) return;\n",
              "\n",
              "        const docLinkHtml = 'Like what you see? Visit the ' +\n",
              "          '<a target=\"_blank\" href=https://colab.research.google.com/notebooks/data_table.ipynb>data table notebook</a>'\n",
              "          + ' to learn more about interactive tables.';\n",
              "        element.innerHTML = '';\n",
              "        dataTable['output_type'] = 'display_data';\n",
              "        await google.colab.output.renderOutput(dataTable, element);\n",
              "        const docLink = document.createElement('div');\n",
              "        docLink.innerHTML = docLinkHtml;\n",
              "        element.appendChild(docLink);\n",
              "      }\n",
              "    </script>\n",
              "  </div>\n",
              "\n",
              "\n",
              "    <div id=\"df-793d9d64-4691-4cc2-9291-435d73ef07f6\">\n",
              "      <button class=\"colab-df-quickchart\" onclick=\"quickchart('df-793d9d64-4691-4cc2-9291-435d73ef07f6')\"\n",
              "                title=\"Suggest charts\"\n",
              "                style=\"display:none;\">\n",
              "\n",
              "<svg xmlns=\"http://www.w3.org/2000/svg\" height=\"24px\"viewBox=\"0 0 24 24\"\n",
              "     width=\"24px\">\n",
              "    <g>\n",
              "        <path d=\"M19 3H5c-1.1 0-2 .9-2 2v14c0 1.1.9 2 2 2h14c1.1 0 2-.9 2-2V5c0-1.1-.9-2-2-2zM9 17H7v-7h2v7zm4 0h-2V7h2v10zm4 0h-2v-4h2v4z\"/>\n",
              "    </g>\n",
              "</svg>\n",
              "      </button>\n",
              "\n",
              "<style>\n",
              "  .colab-df-quickchart {\n",
              "      --bg-color: #E8F0FE;\n",
              "      --fill-color: #1967D2;\n",
              "      --hover-bg-color: #E2EBFA;\n",
              "      --hover-fill-color: #174EA6;\n",
              "      --disabled-fill-color: #AAA;\n",
              "      --disabled-bg-color: #DDD;\n",
              "  }\n",
              "\n",
              "  [theme=dark] .colab-df-quickchart {\n",
              "      --bg-color: #3B4455;\n",
              "      --fill-color: #D2E3FC;\n",
              "      --hover-bg-color: #434B5C;\n",
              "      --hover-fill-color: #FFFFFF;\n",
              "      --disabled-bg-color: #3B4455;\n",
              "      --disabled-fill-color: #666;\n",
              "  }\n",
              "\n",
              "  .colab-df-quickchart {\n",
              "    background-color: var(--bg-color);\n",
              "    border: none;\n",
              "    border-radius: 50%;\n",
              "    cursor: pointer;\n",
              "    display: none;\n",
              "    fill: var(--fill-color);\n",
              "    height: 32px;\n",
              "    padding: 0;\n",
              "    width: 32px;\n",
              "  }\n",
              "\n",
              "  .colab-df-quickchart:hover {\n",
              "    background-color: var(--hover-bg-color);\n",
              "    box-shadow: 0 1px 2px rgba(60, 64, 67, 0.3), 0 1px 3px 1px rgba(60, 64, 67, 0.15);\n",
              "    fill: var(--button-hover-fill-color);\n",
              "  }\n",
              "\n",
              "  .colab-df-quickchart-complete:disabled,\n",
              "  .colab-df-quickchart-complete:disabled:hover {\n",
              "    background-color: var(--disabled-bg-color);\n",
              "    fill: var(--disabled-fill-color);\n",
              "    box-shadow: none;\n",
              "  }\n",
              "\n",
              "  .colab-df-spinner {\n",
              "    border: 2px solid var(--fill-color);\n",
              "    border-color: transparent;\n",
              "    border-bottom-color: var(--fill-color);\n",
              "    animation:\n",
              "      spin 1s steps(1) infinite;\n",
              "  }\n",
              "\n",
              "  @keyframes spin {\n",
              "    0% {\n",
              "      border-color: transparent;\n",
              "      border-bottom-color: var(--fill-color);\n",
              "      border-left-color: var(--fill-color);\n",
              "    }\n",
              "    20% {\n",
              "      border-color: transparent;\n",
              "      border-left-color: var(--fill-color);\n",
              "      border-top-color: var(--fill-color);\n",
              "    }\n",
              "    30% {\n",
              "      border-color: transparent;\n",
              "      border-left-color: var(--fill-color);\n",
              "      border-top-color: var(--fill-color);\n",
              "      border-right-color: var(--fill-color);\n",
              "    }\n",
              "    40% {\n",
              "      border-color: transparent;\n",
              "      border-right-color: var(--fill-color);\n",
              "      border-top-color: var(--fill-color);\n",
              "    }\n",
              "    60% {\n",
              "      border-color: transparent;\n",
              "      border-right-color: var(--fill-color);\n",
              "    }\n",
              "    80% {\n",
              "      border-color: transparent;\n",
              "      border-right-color: var(--fill-color);\n",
              "      border-bottom-color: var(--fill-color);\n",
              "    }\n",
              "    90% {\n",
              "      border-color: transparent;\n",
              "      border-bottom-color: var(--fill-color);\n",
              "    }\n",
              "  }\n",
              "</style>\n",
              "\n",
              "      <script>\n",
              "        async function quickchart(key) {\n",
              "          const quickchartButtonEl =\n",
              "            document.querySelector('#' + key + ' button');\n",
              "          quickchartButtonEl.disabled = true;  // To prevent multiple clicks.\n",
              "          quickchartButtonEl.classList.add('colab-df-spinner');\n",
              "          try {\n",
              "            const charts = await google.colab.kernel.invokeFunction(\n",
              "                'suggestCharts', [key], {});\n",
              "          } catch (error) {\n",
              "            console.error('Error during call to suggestCharts:', error);\n",
              "          }\n",
              "          quickchartButtonEl.classList.remove('colab-df-spinner');\n",
              "          quickchartButtonEl.classList.add('colab-df-quickchart-complete');\n",
              "        }\n",
              "        (() => {\n",
              "          let quickchartButtonEl =\n",
              "            document.querySelector('#df-793d9d64-4691-4cc2-9291-435d73ef07f6 button');\n",
              "          quickchartButtonEl.style.display =\n",
              "            google.colab.kernel.accessAllowed ? 'block' : 'none';\n",
              "        })();\n",
              "      </script>\n",
              "    </div>\n",
              "\n",
              "    </div>\n",
              "  </div>\n"
            ],
            "application/vnd.google.colaboratory.intrinsic+json": {
              "type": "dataframe",
              "summary": "{\n  \"name\": \"df\",\n  \"rows\": 5,\n  \"fields\": [\n    {\n      \"column\": \"Age\",\n      \"properties\": {\n        \"dtype\": \"number\",\n        \"std\": 11,\n        \"min\": 31,\n        \"max\": 60,\n        \"num_unique_values\": 5,\n        \"samples\": [\n          40,\n          38,\n          52\n        ],\n        \"semantic_type\": \"\",\n        \"description\": \"\"\n      }\n    },\n    {\n      \"column\": \"Gender\",\n      \"properties\": {\n        \"dtype\": \"category\",\n        \"num_unique_values\": 1,\n        \"samples\": [\n          \"Male\"\n        ],\n        \"semantic_type\": \"\",\n        \"description\": \"\"\n      }\n    },\n    {\n      \"column\": \"Total_Bilirubin\",\n      \"properties\": {\n        \"dtype\": \"number\",\n        \"std\": 0.3209361307176243,\n        \"min\": 0.5,\n        \"max\": 1.3,\n        \"num_unique_values\": 5,\n        \"samples\": [\n          0.6\n        ],\n        \"semantic_type\": \"\",\n        \"description\": \"\"\n      }\n    },\n    {\n      \"column\": \"Direct_Bilirubin\",\n      \"properties\": {\n        \"dtype\": \"number\",\n        \"std\": 0.1673320053068151,\n        \"min\": 0.1,\n        \"max\": 0.5,\n        \"num_unique_values\": 4,\n        \"samples\": [\n          0.2\n        ],\n        \"semantic_type\": \"\",\n        \"description\": \"\"\n      }\n    },\n    {\n      \"column\": \"Alkaline_Phosphotase\",\n      \"properties\": {\n        \"dtype\": \"number\",\n        \"std\": 150,\n        \"min\": 98,\n        \"max\": 500,\n        \"num_unique_values\": 5,\n        \"samples\": [\n          98\n        ],\n        \"semantic_type\": \"\",\n        \"description\": \"\"\n      }\n    },\n    {\n      \"column\": \"Alamine_Aminotransferase\",\n      \"properties\": {\n        \"dtype\": \"number\",\n        \"std\": 11,\n        \"min\": 20,\n        \"max\": 48,\n        \"num_unique_values\": 5,\n        \"samples\": [\n          35\n        ],\n        \"semantic_type\": \"\",\n        \"description\": \"\"\n      }\n    },\n    {\n      \"column\": \"Aspartate_Aminotransferase\",\n      \"properties\": {\n        \"dtype\": \"number\",\n        \"std\": 9,\n        \"min\": 24,\n        \"max\": 49,\n        \"num_unique_values\": 5,\n        \"samples\": [\n          31\n        ],\n        \"semantic_type\": \"\",\n        \"description\": \"\"\n      }\n    },\n    {\n      \"column\": \"Total_Protiens\",\n      \"properties\": {\n        \"dtype\": \"number\",\n        \"std\": 0.5805170109479995,\n        \"min\": 5.9,\n        \"max\": 7.3,\n        \"num_unique_values\": 5,\n        \"samples\": [\n          6.0\n        ],\n        \"semantic_type\": \"\",\n        \"description\": \"\"\n      }\n    },\n    {\n      \"column\": \"Albumin\",\n      \"properties\": {\n        \"dtype\": \"number\",\n        \"std\": 1.0039920318408906,\n        \"min\": 1.6,\n        \"max\": 4.4,\n        \"num_unique_values\": 4,\n        \"samples\": [\n          3.2\n        ],\n        \"semantic_type\": \"\",\n        \"description\": \"\"\n      }\n    },\n    {\n      \"column\": \"Albumin_and_Globulin_Ratio\",\n      \"properties\": {\n        \"dtype\": \"number\",\n        \"std\": 0.40519131283876264,\n        \"min\": 0.37,\n        \"max\": 1.5,\n        \"num_unique_values\": 4,\n        \"samples\": [\n          1.1\n        ],\n        \"semantic_type\": \"\",\n        \"description\": \"\"\n      }\n    },\n    {\n      \"column\": \"Dataset\",\n      \"properties\": {\n        \"dtype\": \"number\",\n        \"std\": 0,\n        \"min\": 1,\n        \"max\": 2,\n        \"num_unique_values\": 2,\n        \"samples\": [\n          1\n        ],\n        \"semantic_type\": \"\",\n        \"description\": \"\"\n      }\n    }\n  ]\n}"
            }
          },
          "metadata": {},
          "execution_count": 10
        }
      ],
      "source": [
        "# Display the first few rows of the dataset\n",
        "# HINT: use the pandas function .head()\n",
        "# (WRITE 1 LINE OF CODE HERE)\n",
        "df.head()\n",
        "\n",
        "\n",
        "# Display the last few rows of the dataset\n",
        "# HINT use the pandas function .tail()\n",
        "# (WRITE 1 LINE OF CODE HERE)\n",
        "df.tail()\n",
        "\n",
        "\n"
      ]
    },
    {
      "cell_type": "code",
      "execution_count": 13,
      "id": "bacd858b",
      "metadata": {
        "vscode": {
          "languageId": "plaintext"
        },
        "id": "bacd858b",
        "colab": {
          "base_uri": "https://localhost:8080/"
        },
        "outputId": "bdc4745d-9ecf-4c71-97ec-5a91730737cf"
      },
      "outputs": [
        {
          "output_type": "stream",
          "name": "stdout",
          "text": [
            "(583, 11)\n"
          ]
        }
      ],
      "source": [
        "# Exploring the shape of the dataset\n",
        "# HINT: use pandas function .shape\n",
        "# (WRITE 1 LINE OF CODE HERE)\n",
        "print(df.shape)\n",
        "\n",
        "\n",
        "# What does shape represent? How many rows and how many columns are there?\n",
        "# Answer: The shape returns a tuple with the first value being the # of rows and the second value being the # of columns\n",
        "\n",
        "\n"
      ]
    },
    {
      "cell_type": "markdown",
      "id": "09d9d72c",
      "metadata": {
        "id": "09d9d72c"
      },
      "source": [
        "Before building a model, we need to understand our data. Let's check:\n",
        "1. What types of data we have\n",
        "2. Basic statistics about each feature\n",
        "3. If there are any missing values\n",
        "4. If there are any duplicated values\n",
        "\n",
        "**Why is this important?**\n",
        "Real-world data is messy! Missing values or incorrect data types can cause\n",
        "errors in our model."
      ]
    },
    {
      "cell_type": "code",
      "execution_count": 20,
      "id": "78ee4b2b",
      "metadata": {
        "vscode": {
          "languageId": "plaintext"
        },
        "id": "78ee4b2b",
        "colab": {
          "base_uri": "https://localhost:8080/"
        },
        "outputId": "31af8007-5601-4d3e-c063-0e936e522eb3"
      },
      "outputs": [
        {
          "output_type": "stream",
          "name": "stdout",
          "text": [
            "\n",
            "📋 Dataset Information:\n",
            "<class 'pandas.core.frame.DataFrame'>\n",
            "RangeIndex: 583 entries, 0 to 582\n",
            "Data columns (total 11 columns):\n",
            " #   Column                      Non-Null Count  Dtype  \n",
            "---  ------                      --------------  -----  \n",
            " 0   Age                         583 non-null    int64  \n",
            " 1   Gender                      583 non-null    object \n",
            " 2   Total_Bilirubin             583 non-null    float64\n",
            " 3   Direct_Bilirubin            583 non-null    float64\n",
            " 4   Alkaline_Phosphotase        583 non-null    int64  \n",
            " 5   Alamine_Aminotransferase    583 non-null    int64  \n",
            " 6   Aspartate_Aminotransferase  583 non-null    int64  \n",
            " 7   Total_Protiens              583 non-null    float64\n",
            " 8   Albumin                     583 non-null    float64\n",
            " 9   Albumin_and_Globulin_Ratio  579 non-null    float64\n",
            " 10  Dataset                     583 non-null    int64  \n",
            "dtypes: float64(5), int64(5), object(1)\n",
            "memory usage: 50.2+ KB\n",
            "None\n",
            "\n",
            "📊 Basic Statistics:\n",
            "              Age  Total_Bilirubin  Direct_Bilirubin  Alkaline_Phosphotase  \\\n",
            "count  583.000000       583.000000        583.000000            583.000000   \n",
            "mean    44.746141         3.298799          1.486106            290.576329   \n",
            "std     16.189833         6.209522          2.808498            242.937989   \n",
            "min      4.000000         0.400000          0.100000             63.000000   \n",
            "25%     33.000000         0.800000          0.200000            175.500000   \n",
            "50%     45.000000         1.000000          0.300000            208.000000   \n",
            "75%     58.000000         2.600000          1.300000            298.000000   \n",
            "max     90.000000        75.000000         19.700000           2110.000000   \n",
            "\n",
            "       Alamine_Aminotransferase  Aspartate_Aminotransferase  Total_Protiens  \\\n",
            "count                583.000000                  583.000000      583.000000   \n",
            "mean                  80.713551                  109.910806        6.483190   \n",
            "std                  182.620356                  288.918529        1.085451   \n",
            "min                   10.000000                   10.000000        2.700000   \n",
            "25%                   23.000000                   25.000000        5.800000   \n",
            "50%                   35.000000                   42.000000        6.600000   \n",
            "75%                   60.500000                   87.000000        7.200000   \n",
            "max                 2000.000000                 4929.000000        9.600000   \n",
            "\n",
            "          Albumin  Albumin_and_Globulin_Ratio     Dataset  \n",
            "count  583.000000                  579.000000  583.000000  \n",
            "mean     3.141852                    0.947064    1.286449  \n",
            "std      0.795519                    0.319592    0.452490  \n",
            "min      0.900000                    0.300000    1.000000  \n",
            "25%      2.600000                    0.700000    1.000000  \n",
            "50%      3.100000                    0.930000    1.000000  \n",
            "75%      3.800000                    1.100000    2.000000  \n",
            "max      5.500000                    2.800000    2.000000  \n",
            "\n",
            "❓ Missing Values:\n",
            "Age                           0\n",
            "Gender                        0\n",
            "Total_Bilirubin               0\n",
            "Direct_Bilirubin              0\n",
            "Alkaline_Phosphotase          0\n",
            "Alamine_Aminotransferase      0\n",
            "Aspartate_Aminotransferase    0\n",
            "Total_Protiens                0\n",
            "Albumin                       0\n",
            "Albumin_and_Globulin_Ratio    4\n",
            "Dataset                       0\n",
            "dtype: int64\n",
            "\n",
            "🪞 Duplicated Values:\n",
            "13\n"
          ]
        }
      ],
      "source": [
        "# Check data types, basics statistics of each feature, and missing values\n",
        "print(\"\\n📋 Dataset Information:\")\n",
        "# HINT: use pandas function .info()\n",
        "print(df.info())\n",
        "\n",
        "\n",
        "print(\"\\n📊 Basic Statistics:\")\n",
        "# HINT: use pandas function .describe()\n",
        "print(df.describe())\n",
        "\n",
        "\n",
        "print(\"\\n❓ Missing Values:\")\n",
        "# HINT: use pandas function .isnull() and sum the amount of missing/null values using .sum()\n",
        "print(df.isnull().sum())\n",
        "\n",
        "print(\"\\n🪞 Duplicated Values:\")\n",
        "# HINT: use pandas function .duplicated() and sum the amount of duplicated values using .sum()\n",
        "print(df.duplicated().sum())"
      ]
    },
    {
      "cell_type": "code",
      "execution_count": 21,
      "id": "e7e686af",
      "metadata": {
        "vscode": {
          "languageId": "plaintext"
        },
        "id": "e7e686af",
        "colab": {
          "base_uri": "https://localhost:8080/",
          "height": 507
        },
        "outputId": "76e7a45b-c0cf-4ff1-c9a2-9c753f389284"
      },
      "outputs": [
        {
          "output_type": "display_data",
          "data": {
            "text/plain": [
              "<Figure size 800x500 with 1 Axes>"
            ],
            "image/png": "[encoded data removed]"
          },
          "metadata": {}
        }
      ],
      "source": [
        "# Visualize the distribution of the target variable, AKA how many liver vs. no liver disease patients are there, using matplotlib?\n",
        "plt.figure(figsize=(8, 5))\n",
        "target_counts = df['Dataset'].value_counts()\n",
        "plt.bar(['Liver Disease', 'No Liver Disease'], target_counts.values, color=['#ff6b6b', '#4ecdc4'])\n",
        "plt.title('Distribution of Liver Disease Cases', fontsize=14, fontweight='bold')\n",
        "plt.ylabel('Number of Patients')\n",
        "plt.xlabel('Condition')\n",
        "for i, v in enumerate(target_counts.values):\n",
        "    plt.text(i, v + 5, str(v), ha='center', fontweight='bold')\n",
        "plt.tight_layout()\n",
        "plt.show()"
      ]
    },
    {
      "cell_type": "markdown",
      "id": "a07e6ba9",
      "metadata": {
        "id": "a07e6ba9"
      },
      "source": [
        "## 🧹 Step 3: Clean and Preprocess the Data"
      ]
    },
    {
      "cell_type": "markdown",
      "id": "cd1ce283",
      "metadata": {
        "id": "cd1ce283"
      },
      "source": [
        "Now we need to prepare our data for the machine learning model:\n",
        "\n",
        "### Handle Missing Values\n",
        "Some patients might have missing test results. We need to decide what to do\n",
        "with these missing values. Common approaches:\n",
        "- Remove rows with missing data\n",
        "- Fill missing values with the average (mean) or median\n",
        "\n",
        "Documentation: https://pandas.pydata.org/docs/user_guide/missing_data.html\n",
        "\n",
        "### Handle Duplicate Rows\n",
        "Sometimes the same patient data might be recorded multiple times by accident.\n",
        "Duplicate rows can bias our model by giving extra weight to certain patients.\n",
        "\n",
        "**What to do:** Remove duplicate rows to ensure each patient is only counted once.\n",
        "\n",
        "Documentation: https://pandas.pydata.org/docs/user_guide/duplicates.html\n",
        "\n",
        "\n",
        "⚠️ **Important Note about inplace=True:** ⚠️\n",
        "When `inplace=True`, the changes are made directly to the original dataframe and cannot be undone. Without it, pandas creates a new dataframe with the changes, leaving your original data untouched. You want to use inplace=True so your ongoing dataframe gets modified with the changes you are applying to it."
      ]
    },
    {
      "cell_type": "code",
      "execution_count": 22,
      "id": "688a66ae",
      "metadata": {
        "vscode": {
          "languageId": "plaintext"
        },
        "id": "688a66ae"
      },
      "outputs": [],
      "source": [
        "# Handling Missing Values (Pick one of the approaches and implement it)\n",
        "\n",
        "# Approach 1: Remove missing/null Values\n",
        "# HINT: Call .dropna() function and make sure argument inplace=True is set.\n",
        "# HINT: Also, reset the index of the dataframe to avoid complications later, use .reset_index() and set arguments drop=True and inplace=True\n",
        "# (WRITE 1-2 LINES OF CODE HERE)\n",
        "df.dropna(inplace=True)\n",
        "df.reset_index(drop=True, inplace=True)\n",
        "\n",
        "\n",
        "# Approach 2: Replace missing/null values with median values\n",
        "# HINT: Call .fillna() function and inside it call .median() to calcualte the median of the dataframe\n",
        "# HINT: Ensure the flag numeric_only=True is set so only numeric values are calculated.\n",
        "# HINT: Ensure inplace=True is set\n",
        "# (WRITE 1 LINE OF CODE HERE)\n",
        "df.fillna(df.median(numeric_only=True), inplace=True)\n",
        "\n"
      ]
    },
    {
      "cell_type": "code",
      "execution_count": 23,
      "id": "6be79447",
      "metadata": {
        "vscode": {
          "languageId": "plaintext"
        },
        "id": "6be79447"
      },
      "outputs": [],
      "source": [
        "# Handle Duplicate Rows\n",
        "\n",
        "# Remove duplicate rows\n",
        "# HINT: Call .drop_duplicates and make sure the flag inplace=True is set\n",
        "# (WRITE 1 LINE OF CODE HERE)\n",
        "df.drop_duplicates(inplace=True)"
      ]
    },
    {
      "cell_type": "markdown",
      "id": "eed97a89",
      "metadata": {
        "id": "eed97a89"
      },
      "source": [
        "### Preprocessing: Encode Categorical Variables\n",
        "\n",
        "Machine learning models work with numbers, not text. We need to convert\n",
        "'Gender' (Male/Female) into numbers.\n",
        "\n",
        "**Label Encoding:** Convert categories to numbers (e.g., Male=0, Female=1)\n",
        "\n",
        "Documentation: https://scikit-learn.org/stable/modules/preprocessing.html#encoding-categorical-features"
      ]
    },
    {
      "cell_type": "code",
      "execution_count": 24,
      "id": "93c47eea",
      "metadata": {
        "vscode": {
          "languageId": "plaintext"
        },
        "id": "93c47eea"
      },
      "outputs": [],
      "source": [
        "# Encode the Gender column using LabelEncoder\n",
        "# Step 1: Create a LabelEncoder object\n",
        "# HINT: Create an instance of LabelEncoder() and store it in variable 'le'\n",
        "# WRITE 1 LINE OF CODE HERE\n",
        "le = LabelEncoder()\n",
        "# Step 2: Transform the Gender column\n",
        "# HINT: Use le.fit_transform() on df['Gender'] and assign it back to df['Gender']\n",
        "# WRITE 1 LINE OF CODE HERE\n",
        "df['Gender'] = le.fit_transform(df['Gender'])\n"
      ]
    },
    {
      "cell_type": "markdown",
      "id": "def6e70d",
      "metadata": {
        "id": "def6e70d"
      },
      "source": [
        "### Preprocessing: Preparing Target Variable\n",
        "Our target variable 'Dataset' currently has values:\n",
        "- 1 = liver disease\n",
        "- 2 = no liver disease\n",
        "\n",
        "Let's convert them to 0 and 1 for easier interpretation:\n",
        "- 0 = no liver disease\n",
        "- 1 = liver disease"
      ]
    },
    {
      "cell_type": "code",
      "execution_count": 25,
      "id": "dc9befa9",
      "metadata": {
        "vscode": {
          "languageId": "plaintext"
        },
        "id": "dc9befa9"
      },
      "outputs": [],
      "source": [
        "# Adjusting target variable from 1 (liver disease) and 2 (no liver disease) ---> 0 (no liver disease) and 1 (liver disease)\n",
        "# HINT: Use .replace() function with a dictionary {2: 0} to replace value 2 with 0\n",
        "# HINT: The syntax is: df['Dataset'] = df['Dataset'].replace({old_value: new_value})\n",
        "# WRITE 1 LINE OF CODE HERE\n",
        "df['Dataset'] = df['Dataset'].replace({2: 0})\n"
      ]
    },
    {
      "cell_type": "markdown",
      "id": "5ed74230",
      "metadata": {
        "id": "5ed74230"
      },
      "source": [
        "### Preprocessing: Separate Features and Target\n",
        "Now we need to separate our data into:\n",
        "- **X**: Features (all columns except 'Dataset')\n",
        "- **y**: Target (only the 'Dataset' column)\""
      ]
    },
    {
      "cell_type": "code",
      "execution_count": 26,
      "id": "87ac2ef3",
      "metadata": {
        "vscode": {
          "languageId": "plaintext"
        },
        "id": "87ac2ef3"
      },
      "outputs": [],
      "source": [
        "# Drop the target variable from the data to create only the feature data, stored as X\\n\",\n",
        "# HINT: Use .drop() function with 'Dataset' as the column name and axis=1\\n\",\n",
        "# WRITE 1 LINE OF CODE HERE\n",
        "X = df.drop('Dataset', axis=1)\n",
        "\n",
        "# Store the target variable in a separate variable called y\n",
        "# HINT: Simply select the 'Dataset' column from df\n",
        "# WRITE 1 LINE OF CODE HERE\n",
        "y = df['Dataset']\n"
      ]
    },
    {
      "cell_type": "markdown",
      "id": "929d93dc",
      "metadata": {
        "id": "929d93dc"
      },
      "source": [
        "Preprocessing: Scale the Features\n",
        "**Why do we scale?**\n",
        "Different features have different ranges (e.g., Age might be 20-80, but Albumin might be 2-5). Machine learning models perform better when all features are on a similar scale.\n",
        "\n",
        "**StandardScaler:** Transforms features to have mean=0 and standard deviation=1\n",
        "\n",
        "Formula: `scaled_value = (value - mean) / standard_deviation`\n",
        "\n",
        "Documentation: https://scikit-learn.org/stable/modules/generated/sklearn.preprocessing.StandardScaler.html\"\n"
      ]
    },
    {
      "cell_type": "code",
      "execution_count": 27,
      "id": "7338e8d5",
      "metadata": {
        "vscode": {
          "languageId": "plaintext"
        },
        "id": "7338e8d5"
      },
      "outputs": [],
      "source": [
        "# Scale the feature data using a StandardScaler\n",
        "\n",
        "# Step 1: Create a StandardScaler object\n",
        "# HINT: Create an instance of StandardScaler() and store it in variable 'scaler'\n",
        "# WRITE 1 LINE OF CODE HERE\n",
        "scaler = StandardScaler()\n",
        "\n",
        "# Step 2: Fit and transform the features\n",
        "# HINT: Use scaler.fit_transform(X) and assign the result back to X\n",
        "# WRITE 1 LINE OF CODE HERE\n",
        "X = scaler.fit_transform(X)"
      ]
    },
    {
      "cell_type": "markdown",
      "id": "f247579b",
      "metadata": {
        "id": "f247579b"
      },
      "source": [
        "## ✂️ Step 4: Split Data into Training and Testing Sets\n",
        "\n",
        "**Why do we split the data?**\n",
        "We need to test our model on data it hasn't seen before to see if it can\n",
        "generalize. Think of it like studying for a test with practice problems,\n",
        "then taking the real test with different questions.\n",
        "\n",
        "**Common split:** 80% for training, 20% for testing\n",
        "\n",
        "Documentation: https://scikit-learn.org/stable/modules/generated/sklearn.model_selection.train_test_split.html"
      ]
    },
    {
      "cell_type": "code",
      "execution_count": 28,
      "id": "aad216d5",
      "metadata": {
        "vscode": {
          "languageId": "plaintext"
        },
        "id": "aad216d5"
      },
      "outputs": [],
      "source": [
        "# Split the data into training and testing sets\n",
        "# X is the feature data, y is the target variable data\n",
        "\n",
        "# HINT: Use train_test_split(X, y, test_size=0.2, random_state=42, shuffle=True)\n",
        "# HINT: Assign the result to X_train, X_test, y_train, y_test\n",
        "# WRITE 1 LINE OF CODE HERE\n",
        "X_train, X_test, y_train, y_test = train_test_split(X, y, test_size=0.2, random_state=42, shuffle=True)"
      ]
    },
    {
      "cell_type": "markdown",
      "id": "74450c90",
      "metadata": {
        "id": "74450c90"
      },
      "source": [
        "## 🤖 Step 5: Build and Train the Logistic Regression Model\n",
        "\n",
        "**What is Logistic Regression?**\n",
        "Despite its name, logistic regression is used for classification (predicting\n",
        "categories), not regression. It predicts the probability of a patient having\n",
        "liver disease.\n",
        "\n",
        "**How it works:**\n",
        "The model learns weights for each feature that indicate how much that feature\n",
        "contributes to the prediction.\n",
        "\n",
        "Documentation: https://scikit-learn.org/stable/modules/generated/sklearn.linear_model.LogisticRegression.html"
      ]
    },
    {
      "cell_type": "code",
      "execution_count": 31,
      "id": "10814669",
      "metadata": {
        "vscode": {
          "languageId": "plaintext"
        },
        "id": "10814669",
        "colab": {
          "base_uri": "https://localhost:8080/",
          "height": 80
        },
        "outputId": "a9cdab2f-fee4-4b33-84cc-32d91906a8ef"
      },
      "outputs": [
        {
          "output_type": "execute_result",
          "data": {
            "text/plain": [
              "LogisticRegression(random_state=42)"
            ],
            "text/html": [
              "<style>#sk-container-id-1 {\n",
              "  /* Definition of color scheme common for light and dark mode */\n",
              "  --sklearn-color-text: #000;\n",
              "  --sklearn-color-text-muted: #666;\n",
              "  --sklearn-color-line: gray;\n",
              "  /* Definition of color scheme for unfitted estimators */\n",
              "  --sklearn-color-unfitted-level-0: #fff5e6;\n",
              "  --sklearn-color-unfitted-level-1: #f6e4d2;\n",
              "  --sklearn-color-unfitted-level-2: #ffe0b3;\n",
              "  --sklearn-color-unfitted-level-3: chocolate;\n",
              "  /* Definition of color scheme for fitted estimators */\n",
              "  --sklearn-color-fitted-level-0: #f0f8ff;\n",
              "  --sklearn-color-fitted-level-1: #d4ebff;\n",
              "  --sklearn-color-fitted-level-2: #b3dbfd;\n",
              "  --sklearn-color-fitted-level-3: cornflowerblue;\n",
              "\n",
              "  /* Specific color for light theme */\n",
              "  --sklearn-color-text-on-default-background: var(--sg-text-color, var(--theme-code-foreground, var(--jp-content-font-color1, black)));\n",
              "  --sklearn-color-background: var(--sg-background-color, var(--theme-background, var(--jp-layout-color0, white)));\n",
              "  --sklearn-color-border-box: var(--sg-text-color, var(--theme-code-foreground, var(--jp-content-font-color1, black)));\n",
              "  --sklearn-color-icon: #696969;\n",
              "\n",
              "  @media (prefers-color-scheme: dark) {\n",
              "    /* Redefinition of color scheme for dark theme */\n",
              "    --sklearn-color-text-on-default-background: var(--sg-text-color, var(--theme-code-foreground, var(--jp-content-font-color1, white)));\n",
              "    --sklearn-color-background: var(--sg-background-color, var(--theme-background, var(--jp-layout-color0, #111)));\n",
              "    --sklearn-color-border-box: var(--sg-text-color, var(--theme-code-foreground, var(--jp-content-font-color1, white)));\n",
              "    --sklearn-color-icon: #878787;\n",
              "  }\n",
              "}\n",
              "\n",
              "#sk-container-id-1 {\n",
              "  color: var(--sklearn-color-text);\n",
              "}\n",
              "\n",
              "#sk-container-id-1 pre {\n",
              "  padding: 0;\n",
              "}\n",
              "\n",
              "#sk-container-id-1 input.sk-hidden--visually {\n",
              "  border: 0;\n",
              "  clip: rect(1px 1px 1px 1px);\n",
              "  clip: rect(1px, 1px, 1px, 1px);\n",
              "  height: 1px;\n",
              "  margin: -1px;\n",
              "  overflow: hidden;\n",
              "  padding: 0;\n",
              "  position: absolute;\n",
              "  width: 1px;\n",
              "}\n",
              "\n",
              "#sk-container-id-1 div.sk-dashed-wrapped {\n",
              "  border: 1px dashed var(--sklearn-color-line);\n",
              "  margin: 0 0.4em 0.5em 0.4em;\n",
              "  box-sizing: border-box;\n",
              "  padding-bottom: 0.4em;\n",
              "  background-color: var(--sklearn-color-background);\n",
              "}\n",
              "\n",
              "#sk-container-id-1 div.sk-container {\n",
              "  /* jupyter's `normalize.less` sets `[hidden] { display: none; }`\n",
              "     but bootstrap.min.css set `[hidden] { display: none !important; }`\n",
              "     so we also need the `!important` here to be able to override the\n",
              "     default hidden behavior on the sphinx rendered scikit-learn.org.\n",
              "     See: https://github.com/scikit-learn/scikit-learn/issues/21755 */\n",
              "  display: inline-block !important;\n",
              "  position: relative;\n",
              "}\n",
              "\n",
              "#sk-container-id-1 div.sk-text-repr-fallback {\n",
              "  display: none;\n",
              "}\n",
              "\n",
              "div.sk-parallel-item,\n",
              "div.sk-serial,\n",
              "div.sk-item {\n",
              "  /* draw centered vertical line to link estimators */\n",
              "  background-image: linear-gradient(var(--sklearn-color-text-on-default-background), var(--sklearn-color-text-on-default-background));\n",
              "  background-size: 2px 100%;\n",
              "  background-repeat: no-repeat;\n",
              "  background-position: center center;\n",
              "}\n",
              "\n",
              "/* Parallel-specific style estimator block */\n",
              "\n",
              "#sk-container-id-1 div.sk-parallel-item::after {\n",
              "  content: \"\";\n",
              "  width: 100%;\n",
              "  border-bottom: 2px solid var(--sklearn-color-text-on-default-background);\n",
              "  flex-grow: 1;\n",
              "}\n",
              "\n",
              "#sk-container-id-1 div.sk-parallel {\n",
              "  display: flex;\n",
              "  align-items: stretch;\n",
              "  justify-content: center;\n",
              "  background-color: var(--sklearn-color-background);\n",
              "  position: relative;\n",
              "}\n",
              "\n",
              "#sk-container-id-1 div.sk-parallel-item {\n",
              "  display: flex;\n",
              "  flex-direction: column;\n",
              "}\n",
              "\n",
              "#sk-container-id-1 div.sk-parallel-item:first-child::after {\n",
              "  align-self: flex-end;\n",
              "  width: 50%;\n",
              "}\n",
              "\n",
              "#sk-container-id-1 div.sk-parallel-item:last-child::after {\n",
              "  align-self: flex-start;\n",
              "  width: 50%;\n",
              "}\n",
              "\n",
              "#sk-container-id-1 div.sk-parallel-item:only-child::after {\n",
              "  width: 0;\n",
              "}\n",
              "\n",
              "/* Serial-specific style estimator block */\n",
              "\n",
              "#sk-container-id-1 div.sk-serial {\n",
              "  display: flex;\n",
              "  flex-direction: column;\n",
              "  align-items: center;\n",
              "  background-color: var(--sklearn-color-background);\n",
              "  padding-right: 1em;\n",
              "  padding-left: 1em;\n",
              "}\n",
              "\n",
              "\n",
              "/* Toggleable style: style used for estimator/Pipeline/ColumnTransformer box that is\n",
              "clickable and can be expanded/collapsed.\n",
              "- Pipeline and ColumnTransformer use this feature and define the default style\n",
              "- Estimators will overwrite some part of the style using the `sk-estimator` class\n",
              "*/\n",
              "\n",
              "/* Pipeline and ColumnTransformer style (default) */\n",
              "\n",
              "#sk-container-id-1 div.sk-toggleable {\n",
              "  /* Default theme specific background. It is overwritten whether we have a\n",
              "  specific estimator or a Pipeline/ColumnTransformer */\n",
              "  background-color: var(--sklearn-color-background);\n",
              "}\n",
              "\n",
              "/* Toggleable label */\n",
              "#sk-container-id-1 label.sk-toggleable__label {\n",
              "  cursor: pointer;\n",
              "  display: flex;\n",
              "  width: 100%;\n",
              "  margin-bottom: 0;\n",
              "  padding: 0.5em;\n",
              "  box-sizing: border-box;\n",
              "  text-align: center;\n",
              "  align-items: start;\n",
              "  justify-content: space-between;\n",
              "  gap: 0.5em;\n",
              "}\n",
              "\n",
              "#sk-container-id-1 label.sk-toggleable__label .caption {\n",
              "  font-size: 0.6rem;\n",
              "  font-weight: lighter;\n",
              "  color: var(--sklearn-color-text-muted);\n",
              "}\n",
              "\n",
              "#sk-container-id-1 label.sk-toggleable__label-arrow:before {\n",
              "  /* Arrow on the left of the label */\n",
              "  content: \"▸\";\n",
              "  float: left;\n",
              "  margin-right: 0.25em;\n",
              "  color: var(--sklearn-color-icon);\n",
              "}\n",
              "\n",
              "#sk-container-id-1 label.sk-toggleable__label-arrow:hover:before {\n",
              "  color: var(--sklearn-color-text);\n",
              "}\n",
              "\n",
              "/* Toggleable content - dropdown */\n",
              "\n",
              "#sk-container-id-1 div.sk-toggleable__content {\n",
              "  max-height: 0;\n",
              "  max-width: 0;\n",
              "  overflow: hidden;\n",
              "  text-align: left;\n",
              "  /* unfitted */\n",
              "  background-color: var(--sklearn-color-unfitted-level-0);\n",
              "}\n",
              "\n",
              "#sk-container-id-1 div.sk-toggleable__content.fitted {\n",
              "  /* fitted */\n",
              "  background-color: var(--sklearn-color-fitted-level-0);\n",
              "}\n",
              "\n",
              "#sk-container-id-1 div.sk-toggleable__content pre {\n",
              "  margin: 0.2em;\n",
              "  border-radius: 0.25em;\n",
              "  color: var(--sklearn-color-text);\n",
              "  /* unfitted */\n",
              "  background-color: var(--sklearn-color-unfitted-level-0);\n",
              "}\n",
              "\n",
              "#sk-container-id-1 div.sk-toggleable__content.fitted pre {\n",
              "  /* unfitted */\n",
              "  background-color: var(--sklearn-color-fitted-level-0);\n",
              "}\n",
              "\n",
              "#sk-container-id-1 input.sk-toggleable__control:checked~div.sk-toggleable__content {\n",
              "  /* Expand drop-down */\n",
              "  max-height: 200px;\n",
              "  max-width: 100%;\n",
              "  overflow: auto;\n",
              "}\n",
              "\n",
              "#sk-container-id-1 input.sk-toggleable__control:checked~label.sk-toggleable__label-arrow:before {\n",
              "  content: \"▾\";\n",
              "}\n",
              "\n",
              "/* Pipeline/ColumnTransformer-specific style */\n",
              "\n",
              "#sk-container-id-1 div.sk-label input.sk-toggleable__control:checked~label.sk-toggleable__label {\n",
              "  color: var(--sklearn-color-text);\n",
              "  background-color: var(--sklearn-color-unfitted-level-2);\n",
              "}\n",
              "\n",
              "#sk-container-id-1 div.sk-label.fitted input.sk-toggleable__control:checked~label.sk-toggleable__label {\n",
              "  background-color: var(--sklearn-color-fitted-level-2);\n",
              "}\n",
              "\n",
              "/* Estimator-specific style */\n",
              "\n",
              "/* Colorize estimator box */\n",
              "#sk-container-id-1 div.sk-estimator input.sk-toggleable__control:checked~label.sk-toggleable__label {\n",
              "  /* unfitted */\n",
              "  background-color: var(--sklearn-color-unfitted-level-2);\n",
              "}\n",
              "\n",
              "#sk-container-id-1 div.sk-estimator.fitted input.sk-toggleable__control:checked~label.sk-toggleable__label {\n",
              "  /* fitted */\n",
              "  background-color: var(--sklearn-color-fitted-level-2);\n",
              "}\n",
              "\n",
              "#sk-container-id-1 div.sk-label label.sk-toggleable__label,\n",
              "#sk-container-id-1 div.sk-label label {\n",
              "  /* The background is the default theme color */\n",
              "  color: var(--sklearn-color-text-on-default-background);\n",
              "}\n",
              "\n",
              "/* On hover, darken the color of the background */\n",
              "#sk-container-id-1 div.sk-label:hover label.sk-toggleable__label {\n",
              "  color: var(--sklearn-color-text);\n",
              "  background-color: var(--sklearn-color-unfitted-level-2);\n",
              "}\n",
              "\n",
              "/* Label box, darken color on hover, fitted */\n",
              "#sk-container-id-1 div.sk-label.fitted:hover label.sk-toggleable__label.fitted {\n",
              "  color: var(--sklearn-color-text);\n",
              "  background-color: var(--sklearn-color-fitted-level-2);\n",
              "}\n",
              "\n",
              "/* Estimator label */\n",
              "\n",
              "#sk-container-id-1 div.sk-label label {\n",
              "  font-family: monospace;\n",
              "  font-weight: bold;\n",
              "  display: inline-block;\n",
              "  line-height: 1.2em;\n",
              "}\n",
              "\n",
              "#sk-container-id-1 div.sk-label-container {\n",
              "  text-align: center;\n",
              "}\n",
              "\n",
              "/* Estimator-specific */\n",
              "#sk-container-id-1 div.sk-estimator {\n",
              "  font-family: monospace;\n",
              "  border: 1px dotted var(--sklearn-color-border-box);\n",
              "  border-radius: 0.25em;\n",
              "  box-sizing: border-box;\n",
              "  margin-bottom: 0.5em;\n",
              "  /* unfitted */\n",
              "  background-color: var(--sklearn-color-unfitted-level-0);\n",
              "}\n",
              "\n",
              "#sk-container-id-1 div.sk-estimator.fitted {\n",
              "  /* fitted */\n",
              "  background-color: var(--sklearn-color-fitted-level-0);\n",
              "}\n",
              "\n",
              "/* on hover */\n",
              "#sk-container-id-1 div.sk-estimator:hover {\n",
              "  /* unfitted */\n",
              "  background-color: var(--sklearn-color-unfitted-level-2);\n",
              "}\n",
              "\n",
              "#sk-container-id-1 div.sk-estimator.fitted:hover {\n",
              "  /* fitted */\n",
              "  background-color: var(--sklearn-color-fitted-level-2);\n",
              "}\n",
              "\n",
              "/* Specification for estimator info (e.g. \"i\" and \"?\") */\n",
              "\n",
              "/* Common style for \"i\" and \"?\" */\n",
              "\n",
              ".sk-estimator-doc-link,\n",
              "a:link.sk-estimator-doc-link,\n",
              "a:visited.sk-estimator-doc-link {\n",
              "  float: right;\n",
              "  font-size: smaller;\n",
              "  line-height: 1em;\n",
              "  font-family: monospace;\n",
              "  background-color: var(--sklearn-color-background);\n",
              "  border-radius: 1em;\n",
              "  height: 1em;\n",
              "  width: 1em;\n",
              "  text-decoration: none !important;\n",
              "  margin-left: 0.5em;\n",
              "  text-align: center;\n",
              "  /* unfitted */\n",
              "  border: var(--sklearn-color-unfitted-level-1) 1pt solid;\n",
              "  color: var(--sklearn-color-unfitted-level-1);\n",
              "}\n",
              "\n",
              ".sk-estimator-doc-link.fitted,\n",
              "a:link.sk-estimator-doc-link.fitted,\n",
              "a:visited.sk-estimator-doc-link.fitted {\n",
              "  /* fitted */\n",
              "  border: var(--sklearn-color-fitted-level-1) 1pt solid;\n",
              "  color: var(--sklearn-color-fitted-level-1);\n",
              "}\n",
              "\n",
              "/* On hover */\n",
              "div.sk-estimator:hover .sk-estimator-doc-link:hover,\n",
              ".sk-estimator-doc-link:hover,\n",
              "div.sk-label-container:hover .sk-estimator-doc-link:hover,\n",
              ".sk-estimator-doc-link:hover {\n",
              "  /* unfitted */\n",
              "  background-color: var(--sklearn-color-unfitted-level-3);\n",
              "  color: var(--sklearn-color-background);\n",
              "  text-decoration: none;\n",
              "}\n",
              "\n",
              "div.sk-estimator.fitted:hover .sk-estimator-doc-link.fitted:hover,\n",
              ".sk-estimator-doc-link.fitted:hover,\n",
              "div.sk-label-container:hover .sk-estimator-doc-link.fitted:hover,\n",
              ".sk-estimator-doc-link.fitted:hover {\n",
              "  /* fitted */\n",
              "  background-color: var(--sklearn-color-fitted-level-3);\n",
              "  color: var(--sklearn-color-background);\n",
              "  text-decoration: none;\n",
              "}\n",
              "\n",
              "/* Span, style for the box shown on hovering the info icon */\n",
              ".sk-estimator-doc-link span {\n",
              "  display: none;\n",
              "  z-index: 9999;\n",
              "  position: relative;\n",
              "  font-weight: normal;\n",
              "  right: .2ex;\n",
              "  padding: .5ex;\n",
              "  margin: .5ex;\n",
              "  width: min-content;\n",
              "  min-width: 20ex;\n",
              "  max-width: 50ex;\n",
              "  color: var(--sklearn-color-text);\n",
              "  box-shadow: 2pt 2pt 4pt #999;\n",
              "  /* unfitted */\n",
              "  background: var(--sklearn-color-unfitted-level-0);\n",
              "  border: .5pt solid var(--sklearn-color-unfitted-level-3);\n",
              "}\n",
              "\n",
              ".sk-estimator-doc-link.fitted span {\n",
              "  /* fitted */\n",
              "  background: var(--sklearn-color-fitted-level-0);\n",
              "  border: var(--sklearn-color-fitted-level-3);\n",
              "}\n",
              "\n",
              ".sk-estimator-doc-link:hover span {\n",
              "  display: block;\n",
              "}\n",
              "\n",
              "/* \"?\"-specific style due to the `<a>` HTML tag */\n",
              "\n",
              "#sk-container-id-1 a.estimator_doc_link {\n",
              "  float: right;\n",
              "  font-size: 1rem;\n",
              "  line-height: 1em;\n",
              "  font-family: monospace;\n",
              "  background-color: var(--sklearn-color-background);\n",
              "  border-radius: 1rem;\n",
              "  height: 1rem;\n",
              "  width: 1rem;\n",
              "  text-decoration: none;\n",
              "  /* unfitted */\n",
              "  color: var(--sklearn-color-unfitted-level-1);\n",
              "  border: var(--sklearn-color-unfitted-level-1) 1pt solid;\n",
              "}\n",
              "\n",
              "#sk-container-id-1 a.estimator_doc_link.fitted {\n",
              "  /* fitted */\n",
              "  border: var(--sklearn-color-fitted-level-1) 1pt solid;\n",
              "  color: var(--sklearn-color-fitted-level-1);\n",
              "}\n",
              "\n",
              "/* On hover */\n",
              "#sk-container-id-1 a.estimator_doc_link:hover {\n",
              "  /* unfitted */\n",
              "  background-color: var(--sklearn-color-unfitted-level-3);\n",
              "  color: var(--sklearn-color-background);\n",
              "  text-decoration: none;\n",
              "}\n",
              "\n",
              "#sk-container-id-1 a.estimator_doc_link.fitted:hover {\n",
              "  /* fitted */\n",
              "  background-color: var(--sklearn-color-fitted-level-3);\n",
              "}\n",
              "</style><div id=\"sk-container-id-1\" class=\"sk-top-container\"><div class=\"sk-text-repr-fallback\"><pre>LogisticRegression(random_state=42)</pre><b>In a Jupyter environment, please rerun this cell to show the HTML representation or trust the notebook. <br />On GitHub, the HTML representation is unable to render, please try loading this page with nbviewer.org.</b></div><div class=\"sk-container\" hidden><div class=\"sk-item\"><div class=\"sk-estimator fitted sk-toggleable\"><input class=\"sk-toggleable__control sk-hidden--visually\" id=\"sk-estimator-id-1\" type=\"checkbox\" checked><label for=\"sk-estimator-id-1\" class=\"sk-toggleable__label fitted sk-toggleable__label-arrow\"><div><div>LogisticRegression</div></div><div><a class=\"sk-estimator-doc-link fitted\" rel=\"noreferrer\" target=\"_blank\" href=\"https://scikit-learn.org/1.6/modules/generated/sklearn.linear_model.LogisticRegression.html\">?<span>Documentation for LogisticRegression</span></a><span class=\"sk-estimator-doc-link fitted\">i<span>Fitted</span></span></div></label><div class=\"sk-toggleable__content fitted\"><pre>LogisticRegression(random_state=42)</pre></div> </div></div></div></div>"
            ]
          },
          "metadata": {},
          "execution_count": 31
        }
      ],
      "source": [
        "# Training Logistic Regression Model\n",
        "from sklearn.linear_model import LogisticRegression\n",
        "\n",
        "# Logistic Regression Classifier\n",
        "log_reg = LogisticRegression(random_state=25)\n",
        "log_reg.fit(X_train, y_train)\n",
        "\n",
        "# Build and train the Logistic Regression Model\n",
        "\n",
        "# Step 1: Create a LogisticRegression object\n",
        "# HINT: Create an instance of LogisticRegression(random_state=42) and store it in variable 'log_reg'\n",
        "# WRITE 1 LINE OF CODE HERE\n",
        "log_reg = LogisticRegression(random_state=42)\n",
        "\n",
        "# Step 2: Train the model\n",
        "# HINT: Use log_reg.fit(X_train, y_train) to train the model\n",
        "# WRITE 1 LINE OF CODE HERE\n",
        "log_reg.fit(X_train, y_train)\n"
      ]
    },
    {
      "cell_type": "markdown",
      "id": "34fd3c61",
      "metadata": {
        "id": "34fd3c61"
      },
      "source": [
        "## 🎯 Step 6: Make Predictions\n",
        "\n",
        "Now that our model is trained, let's use it to predict liver disease for\n",
        "patients in our test set.\n",
        "\n",
        "The model will output:\n",
        "- 0: No liver disease predicted\n",
        "- 1: Liver disease predicted"
      ]
    },
    {
      "cell_type": "code",
      "execution_count": 32,
      "id": "1c5d20a0",
      "metadata": {
        "vscode": {
          "languageId": "plaintext"
        },
        "id": "1c5d20a0"
      },
      "outputs": [],
      "source": [
        "# Make predictions using the trained model\n",
        "\n",
        "# HINT: Use log_reg.predict(X_test) to make predictions and store them in 'log_reg_pred'\n",
        "# WRITE 1 LINE OF CODE HERE\n",
        "log_reg_pred = log_reg.predict(X_test)"
      ]
    },
    {
      "cell_type": "markdown",
      "id": "7470e21e",
      "metadata": {
        "id": "7470e21e"
      },
      "source": [
        "## 📈 Step 7: Evaluate Model Performance\n",
        "\n",
        "**How do we know if our model is good?**\n",
        "We compare its predictions to the actual values using several metrics:\n",
        "### Accuracy:\n",
        "- the percentage of correct predictions.\n",
        "### Classification Report:\n",
        "- **Precision:** Of all positive predictions, how many were correct?\n",
        "- **Recall:** Of all actual positives, how many did we find?\n",
        "- **F1-Score:** Harmonic mean of precision and recall\n",
        "A confusion matrix shows us four important values:\n",
        "- **True Positives (TP):** Correctly predicted liver disease\n",
        "- **True Negatives (TN):** Correctly predicted no liver disease\n",
        "- **False Positives (FP):** Incorrectly predicted liver disease (Type I error)\n",
        "- **False Negatives (FN):** Incorrectly predicted no liver disease (Type II error)\n",
        "\n",
        "Documentation:\n",
        "- https://scikit-learn.org/stable/modules/generated/sklearn.metrics.accuracy_score.html\n",
        "- https://scikit-learn.org/stable/modules/generated/sklearn.metrics.classification_report.html\n",
        "- https://scikit-learn.org/stable/modules/generated/sklearn.metrics.confusion_matrix.html"
      ]
    },
    {
      "cell_type": "code",
      "execution_count": 33,
      "id": "0c21f5bd",
      "metadata": {
        "vscode": {
          "languageId": "plaintext"
        },
        "id": "0c21f5bd"
      },
      "outputs": [],
      "source": [
        "# created a custom function to calculate the accuracy, precision, recall, and F1 score for each model\n",
        "\n",
        "from sklearn.metrics import accuracy_score, precision_score, recall_score, f1_score\n",
        "\n",
        "def metric_calculations(y_true, y_pred):\n",
        "\n",
        "    # calculate the accuracy, precision, recall, and F1 score\n",
        "    accuracy = accuracy_score(y_true, y_pred)\n",
        "    precision = precision_score(y_true, y_pred)\n",
        "    recall = recall_score(y_true, y_pred)\n",
        "    f1 = f1_score(y_true, y_pred)\n",
        "\n",
        "    print(f\"Accuracy Score: {accuracy:.2f}\")\n",
        "    print(f\"Precision Score: {precision:.2f}\")\n",
        "    print(f\"Recall Score: {recall:.2f}\")\n",
        "    print(f\"F1 Score: {f1:.2f}\")\n",
        "\n",
        "    return f1"
      ]
    },
    {
      "cell_type": "code",
      "execution_count": 34,
      "id": "4105f4f3",
      "metadata": {
        "vscode": {
          "languageId": "plaintext"
        },
        "id": "4105f4f3",
        "colab": {
          "base_uri": "https://localhost:8080/",
          "height": 472
        },
        "outputId": "77d87969-6076-422a-948e-385d89c295fe"
      },
      "outputs": [
        {
          "output_type": "display_data",
          "data": {
            "text/plain": [
              "<Figure size 640x480 with 2 Axes>"
            ],
            "image/png": "[encoded data removed]"
          },
          "metadata": {}
        }
      ],
      "source": [
        "# Confusion matrix for logistic regression model, already done!\n",
        "from sklearn.metrics import confusion_matrix, ConfusionMatrixDisplay\n",
        "import matplotlib.pyplot as plt\n",
        "\n",
        "cm_lrc = confusion_matrix(y_test, log_reg_pred)\n",
        "disp = ConfusionMatrixDisplay(confusion_matrix=cm_lrc, display_labels=log_reg.classes_)\n",
        "disp.plot(cmap=plt.cm.Blues)\n",
        "plt.title('Confusion Matrix for Logistic Regression Model')\n",
        "plt.show()"
      ]
    },
    {
      "cell_type": "code",
      "execution_count": 35,
      "id": "92530219",
      "metadata": {
        "vscode": {
          "languageId": "plaintext"
        },
        "id": "92530219",
        "colab": {
          "base_uri": "https://localhost:8080/"
        },
        "outputId": "3c2b4f78-3994-4a56-a346-96e828ea1c8f"
      },
      "outputs": [
        {
          "output_type": "stream",
          "name": "stdout",
          "text": [
            "Logistic Regression Model F1 Score:\n",
            "Accuracy Score: 0.63\n",
            "Precision Score: 0.64\n",
            "Recall Score: 0.93\n",
            "F1 Score: 0.76\n"
          ]
        }
      ],
      "source": [
        "# Print the F1 score for logistic regression model using the custom function\n",
        "print('Logistic Regression Model F1 Score:')\n",
        "log_reg_f1 = metric_calculations(y_test, log_reg_pred)"
      ]
    },
    {
      "cell_type": "code",
      "source": [],
      "metadata": {
        "id": "WDJCajd08Lgd"
      },
      "id": "WDJCajd08Lgd",
      "execution_count": null,
      "outputs": []
    }
  ],
  "metadata": {
    "language_info": {
      "name": "python"
    },
    "colab": {
      "provenance": []
    },
    "kernelspec": {
      "name": "python3",
      "display_name": "Python 3"
    }
  },
  "nbformat": 4,
  "nbformat_minor": 5
}